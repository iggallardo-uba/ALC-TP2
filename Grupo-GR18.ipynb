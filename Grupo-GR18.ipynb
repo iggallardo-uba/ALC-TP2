{
 "cells": [
  {
   "cell_type": "markdown",
   "metadata": {},
   "source": [
    "# TP 2 ALC \n",
    "\n",
    "## Integrantes:\n",
    "- A\n",
    "- B\n",
    "\n",
    "## Dependencias"
   ]
  },
  {
   "cell_type": "markdown",
   "metadata": {},
   "source": [
    "Tabla nutricional input POR DIA\n",
    "\n",
    "Esto es lo que tenemos que calñcular con la funcion del Ejercicio 2"
   ]
  },
  {
   "cell_type": "code",
   "execution_count": null,
   "metadata": {},
   "outputs": [],
   "source": [
    "# Instalacion de paquetes faltantes\n",
    "#!pip install scipy\n",
    "#!pip install pandas --upgrade\n",
    "#!pip install seaborn --upgrade\n",
    "#!pip install scikit-learn\n",
    "#!pip install matplotlib --upgrade"
   ]
  },
  {
   "cell_type": "code",
   "execution_count": null,
   "metadata": {},
   "outputs": [],
   "source": [
    "from funciones import *"
   ]
  },
  {
   "cell_type": "markdown",
   "metadata": {},
   "source": [
    "### Consigna 1"
   ]
  },
  {
   "cell_type": "code",
   "execution_count": null,
   "metadata": {},
   "outputs": [],
   "source": [
    "tabla_view()"
   ]
  },
  {
   "cell_type": "markdown",
   "metadata": {},
   "source": [
    "### Consigna 2"
   ]
  },
  {
   "cell_type": "markdown",
   "metadata": {},
   "source": [
    "#### Primero vamos a preparar unas tablas de la canasta basica en la argentina para realizarle despues el analisis, esta informacion la buscamos del INDEC"
   ]
  },
  {
   "cell_type": "code",
   "execution_count": null,
   "metadata": {},
   "outputs": [],
   "source": [
    "chequeoDieta(tabla_view())"
   ]
  },
  {
   "cell_type": "markdown",
   "metadata": {},
   "source": [
    "### Consigna 3"
   ]
  },
  {
   "cell_type": "markdown",
   "metadata": {},
   "source": [
    "Primero preparamos la tabla nutricional para un gramo de cada alimento "
   ]
  },
  {
   "cell_type": "code",
   "execution_count": null,
   "metadata": {},
   "outputs": [],
   "source": [
    "tabla_nutricional = tabla_view()\n",
    "\n",
    "tabla_limpia = tabla_nutricional.drop(columns=[\"Alimento\", \"Cantidad (gr/ml)\", \"Verdura/Fruta\"])\n",
    "\n",
    "tabla_divida = pd.DataFrame()\n",
    "\n",
    "for i in range(0, len(tabla_nutricional)):\n",
    "    tabla_divida = tabla_divida._append(tabla_limpia.iloc[i]/tabla_nutricional[\"Cantidad (gr/ml)\"].iloc[i])\n",
    "\n",
    "tabla_divida\n",
    "\n",
    "pca = PCA(n_components=3)\n",
    "\n",
    "pca.fit(tabla_divida)\n",
    "\n",
    "print(pca.explained_variance_ratio_)"
   ]
  },
  {
   "cell_type": "code",
   "execution_count": null,
   "metadata": {},
   "outputs": [],
   "source": [
    "tabla_nutricional = tabla_view()\n",
    "\n",
    "tabla_limpia = tabla_nutricional.drop(columns=[\"Alimento\", \"Cantidad (gr/ml)\", \"Verdura/Fruta\"])\n",
    "\n",
    "tabla_divida = pd.DataFrame()\n",
    "\n",
    "for i in range(0, len(tabla_nutricional)):\n",
    "    tabla_divida = tabla_divida._append(tabla_limpia.iloc[i]/tabla_nutricional[\"Cantidad (gr/ml)\"].iloc[i])\n",
    "\n",
    "tabla_divida\n"
   ]
  },
  {
   "cell_type": "markdown",
   "metadata": {},
   "source": [
    "Calculamos la matriz de covarianza de cada uno"
   ]
  },
  {
   "cell_type": "code",
   "execution_count": null,
   "metadata": {},
   "outputs": [],
   "source": [
    "tabla_estrella = tabla_divida - tabla_divida.mean()\n",
    "\n",
    "tabla_estrella"
   ]
  },
  {
   "cell_type": "code",
   "execution_count": null,
   "metadata": {},
   "outputs": [],
   "source": [
    "covarianza = (tabla_estrella.transpose() @ tabla_estrella)/len(tabla_estrella)\n",
    "\n",
    "covarianza"
   ]
  },
  {
   "cell_type": "markdown",
   "metadata": {},
   "source": [
    "Calculamos los autovectores y autovalores de cada uno"
   ]
  },
  {
   "cell_type": "code",
   "execution_count": null,
   "metadata": {},
   "outputs": [],
   "source": [
    "gamma, U = np.linalg.eigh(covarianza)\n",
    "U = np.flip(U, 1)\n",
    "\n",
    "\"\"\"\n",
    "print(\"Autovalores: \", gamma)\n",
    "\n",
    "for i in range(0, len(U)):\n",
    "    print(\"Autovector \", i, \": \", U[:,i])\n",
    "\"\"\""
   ]
  },
  {
   "cell_type": "markdown",
   "metadata": {},
   "source": [
    "Veamos la variabilidad de cada autovalor"
   ]
  },
  {
   "cell_type": "code",
   "execution_count": null,
   "metadata": {},
   "outputs": [],
   "source": [
    "for i in range(0, len(gamma)):\n",
    "    print(\"Variabilidad de Autovector\", i, \": \", 100*gamma[i]/sum(gamma), \"%\")"
   ]
  },
  {
   "cell_type": "markdown",
   "metadata": {},
   "source": [
    "Esto nos dice que ya con los ultimos 2 autovectores vamos a tener una precision del 99,99% de los datos"
   ]
  },
  {
   "cell_type": "code",
   "execution_count": null,
   "metadata": {},
   "outputs": [],
   "source": [
    "autovectores = U[:,len(U)-3:len(U)]\n",
    "\n",
    "tabla_final =  tabla_estrella @ autovectores\n",
    "\n",
    "tabla_final = tabla_final.rename(index = tabla_nutricional[\"Alimento\"], columns={0:\"Z1\", 1:\"Z2\", 2:\"Z3\"})\n",
    "\n",
    "tabla_final"
   ]
  },
  {
   "cell_type": "code",
   "execution_count": null,
   "metadata": {},
   "outputs": [],
   "source": [
    "(\n",
    "so.Plot()\n",
    ".add(so.Dot(), data=tabla_final, x=\"Z1\", y=\"Z2\")\n",
    ")"
   ]
  },
  {
   "cell_type": "code",
   "execution_count": null,
   "metadata": {},
   "outputs": [],
   "source": [
    "(\n",
    "so.Plot()\n",
    ".add(so.Dot(), data=tabla_final, x=\"Z2\", y=\"Z3\")\n",
    ")"
   ]
  },
  {
   "cell_type": "code",
   "execution_count": null,
   "metadata": {},
   "outputs": [],
   "source": [
    "(\n",
    "so.Plot()\n",
    ".add(so.Dot(), data=tabla_final, x=\"Z1\", y=\"Z3\")\n",
    ")"
   ]
  },
  {
   "cell_type": "code",
   "execution_count": null,
   "metadata": {},
   "outputs": [],
   "source": [
    "fig = plt.figure(figsize=(12, 12))\n",
    "\n",
    "ax = fig.add_subplot(111, projection='3d')\n",
    "\n",
    "ax.scatter(tabla_final[\"Z1\"],tabla_final[\"Z2\"],tabla_final[\"Z3\"])\n",
    "    \n",
    "ax.legend()"
   ]
  },
  {
   "cell_type": "markdown",
   "metadata": {},
   "source": [
    "### Consigna 4"
   ]
  },
  {
   "cell_type": "markdown",
   "metadata": {},
   "source": [
    "Si mi ACP viene de un espacio de 11, como quieren que arregle a 5?"
   ]
  },
  {
   "cell_type": "code",
   "execution_count": null,
   "metadata": {},
   "outputs": [],
   "source": [
    "consumidores = pd.read_csv(\"data/consumidores_libres.csv\", sep=\";\")\n",
    "\n",
    "consumidores_clean = consumidores.drop(columns=[\"PRODUCTOS\", \"Cantidad\"])\n",
    "\n",
    "consumidores_gramo = pd.DataFrame()\n",
    "\n",
    "for i in range(0, len(consumidores_clean)):\n",
    "    consumidores_gramo = consumidores_gramo._append(consumidores_clean.iloc[i].div(consumidores[\"Cantidad\"].iloc[i]), ignore_index = True)\n",
    "\n",
    "consumidores_gramo = consumidores_gramo - consumidores_gramo.mean()\n",
    "\n",
    "consumidores_final = autovectores.transpose() @ consumidores_gramo"
   ]
  },
  {
   "cell_type": "markdown",
   "metadata": {},
   "source": [
    "### Consigna 5"
   ]
  },
  {
   "cell_type": "markdown",
   "metadata": {},
   "source": [
    "### Consigna 6"
   ]
  }
 ],
 "metadata": {
  "kernelspec": {
   "display_name": "Python 3",
   "language": "python",
   "name": "python3"
  },
  "language_info": {
   "codemirror_mode": {
    "name": "ipython",
    "version": 3
   },
   "file_extension": ".py",
   "mimetype": "text/x-python",
   "name": "python",
   "nbconvert_exporter": "python",
   "pygments_lexer": "ipython3",
   "version": "3.10.4"
  }
 },
 "nbformat": 4,
 "nbformat_minor": 2
}
